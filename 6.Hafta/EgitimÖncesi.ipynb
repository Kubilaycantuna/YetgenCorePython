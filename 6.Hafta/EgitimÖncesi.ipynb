{
 "cells": [
  {
   "cell_type": "code",
   "execution_count": null,
   "metadata": {},
   "outputs": [],
   "source": [
    "# MODÜLLER:\n",
    "\n",
    "\"\"\"\n",
    "Modül içindeki fonksiyonları ve sınıfları kullanabiliriz. Bunları kendimizin yazmasına gerek kalmaz.\n",
    "format-- import math\n",
    "modülün içindeki fonksiyonların neler olduğunu görmek için: dir (math)\n",
    "bu fonksiyonları detaylarıyla öğrenmek için öğrenmek için: help(math)\n",
    "\n",
    "fonksiyonları kullanma formatı: math.factorial(5)=120\n",
    "math.ceil: float değeri yukarı yuvarlar\n",
    "math.floor: float değeri aşağı yuvarlar\n",
    "\n",
    "from \"modül adı\" import \"*\" formatı ile modüle ekleme yapabilir kendi modülümüzü yaratabiliriz.\n",
    "\n",
    "örnek:\n",
    "\n",
    "from math import *\n",
    "    def ..... (modüle tanımlayacağımız fonksiyonu yazarız)\n",
    "\n",
    "\"\"\"\n",
    "\n",
    "# GÖMÜLÜ FONKSİYONLAR (Python da hazı bulunan fonksiyonlar):\n",
    "\n",
    "\"\"\"\n",
    "MAP FONKSİYONU: Parametre olarak fonksiyon ve o fonksiyonda sırayla kullanılmasını istediğimiz verileri içeren liste,demet vs alır.\n",
    "map(fonksiyon, verileri kullanılacak liste,tuple vs)\n",
    "\n",
    "1-) Listeyi tanımla (sayılar)\n",
    "2-) Fonksiyonu tanımla (karesini alma)\n",
    "map'i fonksiyonu tanımlarken içinde de kullanabiliriz.\n",
    "\n",
    "FILTER FONKSİYONU: Filtreleme yapar.\n",
    "\n",
    "list(filter(lambda x: x%2==0, [0,1,2,3,4,5,6,7,8,9,10]))\n",
    "output :  [0,2,4,6,8,10]\n",
    "\n",
    "ZİP FONKSİYONU: Birden fazla listeyi veya sözlüğü eleman sırasına göre birleştirir.\n",
    "Enumerate fonksiyonu: girilen listedeki elemanları sıralandırır.\n",
    "all: tüm değerler true is true, bir değer bile yanlışsa false döndürür\n",
    "any: bütün değerler false ise false, bir değer bile true ise true döndürür.\n",
    "\"\"\"\n",
    "\n",
    "# HATA YÖNETİMİ:\n",
    "\n",
    "\"\"\"\n",
    "TRY ve EXCEPT BLOKLARI:\n",
    "\n",
    "Hata çıkabileceğini düşündüğümüz kodarı try bloğuna yazarız ve eğer hata verirse program except bloğuna geçer, try bloğundan çıkar.\n",
    "except blokları tanımladığımız hata çeşitlerine göre çalışır.\n",
    "finally bloğu: her koşulda çalışacak bloktur\n",
    "\n",
    "NOT: Hata fırlatma kısmı olan raise erorr u atölyede soracağım. Tam anlamadım.\n",
    "\n",
    "\"\"\"\n"
   ]
  }
 ],
 "metadata": {
  "kernelspec": {
   "display_name": "Python 3",
   "language": "python",
   "name": "python3"
  },
  "language_info": {
   "name": "python",
   "version": "3.11.1 (v3.11.1:a7a450f84a, Dec  6 2022, 15:24:06) [Clang 13.0.0 (clang-1300.0.29.30)]"
  },
  "orig_nbformat": 4,
  "vscode": {
   "interpreter": {
    "hash": "aee8b7b246df8f9039afb4144a1f6fd8d2ca17a180786b69acc140d282b71a49"
   }
  }
 },
 "nbformat": 4,
 "nbformat_minor": 2
}
