{
 "cells": [
  {
   "attachments": {},
   "cell_type": "markdown",
   "metadata": {},
   "source": [
    "**ASENKRON DERS KAYDI ÖZETİ VE ÇALIŞMALAR:**"
   ]
  },
  {
   "cell_type": "code",
   "execution_count": 2,
   "metadata": {},
   "outputs": [
    {
     "name": "stdout",
     "output_type": "stream",
     "text": [
      "[ 2  6 12 20]\n",
      "[[1 2 3]\n",
      " [4 5 6]\n",
      " [7 8 9]]\n",
      "(9,)\n",
      "(3, 3)\n",
      "1\n",
      "2\n"
     ]
    }
   ],
   "source": [
    "#1.BÖLÜM:\n",
    "import numpy as np\n",
    "#Kütüphaneyi np olarak ekledim.\n",
    "\n",
    "a=np.array([1,2,3,4]) \n",
    "# 1e 4 bir matrisin 1. satır dizinini yarattım.\n",
    "b=np.array([2,3,4,5])\n",
    "# 1e 4 bir matrisin 1. satır dizinini yarattım.\n",
    "print(a*b)\n",
    "\n",
    "# .reshape() ile dizinlerin boyutlarını değiştirebiliriz.\n",
    "\n",
    "x=np.array([1,2,3,4,5,6,7,8,9])\n",
    "multi= x.reshape(3,3)\n",
    "print(multi)\n",
    "\n",
    "# .shape() arrayin boyutlarını verir.\n",
    "\n",
    "print(x.shape)\n",
    "print(multi.shape)\n",
    "\n",
    "# .ndim arraylarin boyut sayısını verir.\n",
    "\n",
    "print(x.ndim)\n",
    "print(multi.ndim)"
   ]
  },
  {
   "attachments": {},
   "cell_type": "markdown",
   "metadata": {},
   "source": [
    "**2.BÖLÜM:**"
   ]
  },
  {
   "cell_type": "code",
   "execution_count": 12,
   "metadata": {},
   "outputs": [
    {
     "name": "stdout",
     "output_type": "stream",
     "text": [
      "[[ 6  7  8]\n",
      " [ 9 10 11]]\n",
      "[ 1  2  3  4  5  6  7  8  9 10 11]\n",
      "[1 2 3 4 5 6]\n",
      "[[ 6  7  8]\n",
      " [ 9 10 11]\n",
      " [ 6  7  8]\n",
      " [ 9 10 11]]\n",
      "[[ 6  7  8  6  7  8]\n",
      " [ 9 10 11  9 10 11]]\n"
     ]
    }
   ],
   "source": [
    "\n",
    "# .concatenate() ile sıralı birleştirme yapabiliriz.\n",
    "\n",
    "x=np.array([1,2,3,4,5])\n",
    "y=np.array([6,7,8,9,10,11])\n",
    "z= y.reshape(2,3)\n",
    "print(z)\n",
    "print(np.concatenate([x,y]))\n",
    "\n",
    "a=np.array([[1,2,3],[4,5,6]])\n",
    "print(np.concatenate([a[0], a[1]]))\n",
    "\n",
    "print(np.concatenate([z,z], axis=0))\n",
    "# axis=0 ile satırları alt alta birleştirerek bir matris yapar.\n",
    "\n",
    "print(np.concatenate([z,z], axis=1))\n",
    "# axis=1 ile satırları yan yana birleştirerek bir matris yapar."
   ]
  },
  {
   "cell_type": "code",
   "execution_count": 16,
   "metadata": {},
   "outputs": [
    {
     "name": "stdout",
     "output_type": "stream",
     "text": [
      "[array([1, 2, 3]), array([4, 5, 6]), array([7, 8, 9])]\n",
      " [1 2 3]\n",
      " [4 5 6]\n",
      " [7 8 9]\n"
     ]
    }
   ],
   "source": [
    "#.split() ile array ayırma yapabiliriz.\n",
    "\n",
    "m=np.array([1,2,3,4,5,6,7,8,9])\n",
    "print(np.split(m,[3,6]))\n",
    "\n",
    "a,b,c= np.split(m,[3,6])\n",
    "print(f\" {a}\\n {b}\\n {c}\")"
   ]
  },
  {
   "cell_type": "code",
   "execution_count": 3,
   "metadata": {},
   "outputs": [
    {
     "data": {
      "text/plain": [
       "array([ 0,  5, 10])"
      ]
     },
     "execution_count": 3,
     "metadata": {},
     "output_type": "execute_result"
    }
   ],
   "source": [
    "# np.arange(start, stop, step):\n",
    "\n",
    "np.arange(0,13,5)"
   ]
  },
  {
   "cell_type": "code",
   "execution_count": 23,
   "metadata": {},
   "outputs": [
    {
     "name": "stdout",
     "output_type": "stream",
     "text": [
      "[[ 0  1  2  3]\n",
      " [ 4  5  6  7]\n",
      " [ 8  9 10 11]\n",
      " [12 13 14 15]]\n",
      "\n"
     ]
    },
    {
     "data": {
      "text/plain": [
       "[array([[0, 1, 2, 3],\n",
       "        [4, 5, 6, 7]]),\n",
       " array([[ 8,  9, 10, 11],\n",
       "        [12, 13, 14, 15]])]"
      ]
     },
     "execution_count": 23,
     "metadata": {},
     "output_type": "execute_result"
    }
   ],
   "source": [
    "n= np.arange(16).reshape(4,4)\n",
    "print(f\"{n}\\n\")\n",
    "\n",
    "# .vsplit(variable,[sayı]): Matrisi yatay olarak arraylere ayırır.\n",
    "np.vsplit(n,[2])"
   ]
  },
  {
   "cell_type": "code",
   "execution_count": 24,
   "metadata": {},
   "outputs": [
    {
     "data": {
      "text/plain": [
       "[array([[ 0,  1],\n",
       "        [ 4,  5],\n",
       "        [ 8,  9],\n",
       "        [12, 13]]),\n",
       " array([[ 2,  3],\n",
       "        [ 6,  7],\n",
       "        [10, 11],\n",
       "        [14, 15]])]"
      ]
     },
     "execution_count": 24,
     "metadata": {},
     "output_type": "execute_result"
    }
   ],
   "source": [
    "# .hsplit(variable,[sayı]): Matrisi dikey olarak sayı kadar arraylere ayırır\n",
    "np.hsplit(n,[2])"
   ]
  },
  {
   "cell_type": "code",
   "execution_count": null,
   "metadata": {},
   "outputs": [],
   "source": [
    "# np.zeros(adet): Adet kadar O'lardan oluşan bir numpy dizisi oluşturmak için kullanılır.\n",
    "\n",
    "# np.ones(adet): Adet kadar 1'lerden oluşan bir numpy dizisi oluşturmak için kullanılır."
   ]
  },
  {
   "cell_type": "code",
   "execution_count": 10,
   "metadata": {},
   "outputs": [
    {
     "data": {
      "text/plain": [
       "array([  0.,  50., 100., 150., 200.])"
      ]
     },
     "execution_count": 10,
     "metadata": {},
     "output_type": "execute_result"
    }
   ],
   "source": [
    "# np.linspace(start, stop, elde edilecek adet sayı ):\n",
    "\n",
    "np.linspace(0,200,5)"
   ]
  },
  {
   "cell_type": "code",
   "execution_count": 12,
   "metadata": {},
   "outputs": [
    {
     "data": {
      "text/plain": [
       "array([9, 5, 5, 8])"
      ]
     },
     "execution_count": 12,
     "metadata": {},
     "output_type": "execute_result"
    }
   ],
   "source": [
    "# np.random.randint(start, stop, adet)\n",
    "np.random.randint(0,10,4)"
   ]
  },
  {
   "cell_type": "code",
   "execution_count": 15,
   "metadata": {},
   "outputs": [
    {
     "name": "stdout",
     "output_type": "stream",
     "text": [
      "[ 0  1  2  3  4  5  6  7  8  9 10 11 12 13 14 15 16 17 18 19 20 21 22 23\n",
      " 24 25 26 27 28 29 30 31 32 33 34 35 36 37 38 39 40 41 42 43 44 45 46 47\n",
      " 48 49]\n",
      "[[ 0  1  2  3  4  5  6  7  8  9]\n",
      " [10 11 12 13 14 15 16 17 18 19]\n",
      " [20 21 22 23 24 25 26 27 28 29]\n",
      " [30 31 32 33 34 35 36 37 38 39]\n",
      " [40 41 42 43 44 45 46 47 48 49]]\n",
      "[100 105 110 115 120 125 130 135 140 145]\n",
      "[ 45 145 245 345 445]\n"
     ]
    }
   ],
   "source": [
    "array= np.arange(50)\n",
    "print(array)\n",
    "\n",
    "matris= array.reshape(5,10)\n",
    "print(matris)\n",
    "\n",
    "print(matris.sum(axis=0))\n",
    "#axis=1 Aynı sütundakileri toplayıp sırayla yazıyor. 1 e 10 luk matris oldu. Çünkü 10 sütun vardı.\n",
    "\n",
    "print(matris.sum(axis=1))\n",
    "#axis=0 Aynı satırdakileri toplayıp sırayla yazıyor. 1 e 5 lik matris oldu. Çünkü 5 satır vardı."
   ]
  },
  {
   "cell_type": "code",
   "execution_count": 18,
   "metadata": {},
   "outputs": [
    {
     "name": "stdout",
     "output_type": "stream",
     "text": [
      "2\n",
      "(5, 10)\n",
      "50\n",
      "int64\n"
     ]
    }
   ],
   "source": [
    "#.ndim: Kaç boyutlu?\n",
    "#.shape: Kaç a kaç matris?\n",
    "# .size: Eleman sayısı?\n",
    "#.dtype: Veri tipi\n",
    "\n",
    "print(matris.ndim)\n",
    "print(matris.shape)\n",
    "print(matris.size)\n",
    "print(matris.dtype)"
   ]
  },
  {
   "cell_type": "code",
   "execution_count": 23,
   "metadata": {},
   "outputs": [
    {
     "name": "stdout",
     "output_type": "stream",
     "text": [
      "[6 9 5 1 1]\n",
      "[1 1 5 6 9]\n"
     ]
    }
   ],
   "source": [
    "#SORTING: .sort()\n",
    "\n",
    "x=np.random.randint(1,10,5)\n",
    "print(x)\n",
    "x.sort()\n",
    "print(x)"
   ]
  },
  {
   "cell_type": "code",
   "execution_count": null,
   "metadata": {},
   "outputs": [],
   "source": [
    "#İndeksleme ve indeks işlemleri aynı listelerdeki gibi yapılabilir."
   ]
  },
  {
   "cell_type": "markdown",
   "metadata": {},
   "source": [
    "**3.BÖLÜM:**"
   ]
  },
  {
   "cell_type": "code",
   "execution_count": null,
   "metadata": {},
   "outputs": [],
   "source": [
    "#np.substract(variable, sayı): çıkarma\n",
    "\n",
    "#np.add(variable, sayı): toplama\n",
    "\n",
    "#np.multiply(variable, sayı): çarpma\n",
    "\n",
    "#np.divide(variable, sayı): bölme\n",
    "\n",
    "#np.power(variable, sayı): üssünü alma\n",
    "\n",
    "#np.mod(variable, sayı): mod alma\n",
    "\n",
    "#np.absoluate(variable,): mutlak değer\n",
    "\n",
    "#np.sin(derece): derecenin sinüs değerini verir\n",
    "\n",
    "#np.log(değer): log değerin karşılığını verir\n",
    "\n"
   ]
  },
  {
   "attachments": {},
   "cell_type": "markdown",
   "metadata": {},
   "source": [
    "***2 Bilinmeyenli Denklem Çözümü***"
   ]
  },
  {
   "cell_type": "code",
   "execution_count": 24,
   "metadata": {},
   "outputs": [
    {
     "name": "stdout",
     "output_type": "stream",
     "text": [
      "[1.85714286 2.71428571]\n"
     ]
    }
   ],
   "source": [
    "# 5*x0 + x1= 12\n",
    "# x0 + 3*x1= 10\n",
    "\n",
    "a= np.array([[5,1],[1,3]])\n",
    "b= np.array([12,10])\n",
    "x=np.linalg.solve(a,b)\n",
    "print(x)"
   ]
  },
  {
   "cell_type": "code",
   "execution_count": null,
   "metadata": {},
   "outputs": [],
   "source": []
  }
 ],
 "metadata": {
  "kernelspec": {
   "display_name": "Python 3",
   "language": "python",
   "name": "python3"
  },
  "language_info": {
   "codemirror_mode": {
    "name": "ipython",
    "version": 3
   },
   "file_extension": ".py",
   "mimetype": "text/x-python",
   "name": "python",
   "nbconvert_exporter": "python",
   "pygments_lexer": "ipython3",
   "version": "3.11.1"
  },
  "orig_nbformat": 4,
  "vscode": {
   "interpreter": {
    "hash": "aee8b7b246df8f9039afb4144a1f6fd8d2ca17a180786b69acc140d282b71a49"
   }
  }
 },
 "nbformat": 4,
 "nbformat_minor": 2
}
