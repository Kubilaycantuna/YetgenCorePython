{
 "cells": [
  {
   "attachments": {},
   "cell_type": "markdown",
   "metadata": {},
   "source": [
    "# Problem 1"
   ]
  },
  {
   "cell_type": "code",
   "execution_count": 1,
   "metadata": {},
   "outputs": [
    {
     "name": "stdout",
     "output_type": "stream",
     "text": [
      "[3 1 0 4 7 6]\n",
      "1\n",
      "(6,)\n",
      "[[3 1 0]\n",
      " [4 7 6]]\n",
      "2\n",
      "(2, 3)\n"
     ]
    }
   ],
   "source": [
    "# 1 - numpy kütüphanesini import edin\n",
    "import numpy as np\n",
    "# 2 - 0 ile 10 arasında 6 sayıdan oluşan matris üretin\n",
    "matris= np.random.randint(0,10,6)\n",
    "print(matris)\n",
    "# 3 - matris'in boyutunu öğrenin\n",
    "print(matris.ndim)\n",
    "print(matris.shape)\n",
    "# 4 - matris'i yeniden boyutlandırın\n",
    "new= matris.reshape(2,3)\n",
    "print(new)\n",
    "# 5 - matris'in boyut sayısını öğrenin\n",
    "print(new.ndim)\n",
    "print(new.shape)"
   ]
  },
  {
   "attachments": {},
   "cell_type": "markdown",
   "metadata": {},
   "source": [
    "# Problem 2"
   ]
  },
  {
   "cell_type": "code",
   "execution_count": 28,
   "metadata": {},
   "outputs": [
    {
     "name": "stdout",
     "output_type": "stream",
     "text": [
      "[1 3 5 7 9]\n",
      "[1 3]\n",
      "[5]\n",
      "[7 9]\n"
     ]
    },
    {
     "data": {
      "text/plain": [
       "array([1, 3, 5, 7, 9])"
      ]
     },
     "execution_count": 28,
     "metadata": {},
     "output_type": "execute_result"
    }
   ],
   "source": [
    "# 1 - 0 ile 10 arasında bulunan tek sayılardan oluşan matris üretin\n",
    "matris_2= np.arange(1,10,2)\n",
    "print(matris_2)\n",
    "# 2 - Oluşturduğunuz matrisi parçalayın\n",
    "a,b,c= np.split(matris_2,[2,3])\n",
    "print(a)\n",
    "print(b)\n",
    "print(c)\n",
    "# 3 - Parçalanmış matrisleri birleştirin\n",
    "np.concatenate([a,b,c])\n",
    "\n"
   ]
  },
  {
   "attachments": {},
   "cell_type": "markdown",
   "metadata": {},
   "source": [
    "# Problem 3"
   ]
  },
  {
   "cell_type": "code",
   "execution_count": 30,
   "metadata": {},
   "outputs": [
    {
     "data": {
      "text/plain": [
       "'rastgele 10 sayıdan oluştururken 2şer 2şer atlama kavramını anlamadım. Bu sorutu rkadaşlarıma soracağım.'"
      ]
     },
     "execution_count": 30,
     "metadata": {},
     "output_type": "execute_result"
    }
   ],
   "source": [
    "# 1 - 5 ile 100 arasında ikişer ikişer atlayarak rastgele 10 sayıdan oluşan matris üretin\n",
    "\"\"\"rastgele 10 sayıdan oluştururken 2şer 2şer atlama kavramını anlamadım. Bu sorutu rkadaşlarıma soracağım.\"\"\"\n",
    "# 2 - matris'in özelliklerini inceleyin\n",
    "\n"
   ]
  }
 ],
 "metadata": {
  "kernelspec": {
   "display_name": "Python 3",
   "language": "python",
   "name": "python3"
  },
  "language_info": {
   "codemirror_mode": {
    "name": "ipython",
    "version": 3
   },
   "file_extension": ".py",
   "mimetype": "text/x-python",
   "name": "python",
   "nbconvert_exporter": "python",
   "pygments_lexer": "ipython3",
   "version": "3.11.1"
  },
  "orig_nbformat": 4,
  "vscode": {
   "interpreter": {
    "hash": "5026d2d6e7aaaaba093def813beadff083d8733e4a511af01735cbabd156995d"
   }
  }
 },
 "nbformat": 4,
 "nbformat_minor": 2
}
