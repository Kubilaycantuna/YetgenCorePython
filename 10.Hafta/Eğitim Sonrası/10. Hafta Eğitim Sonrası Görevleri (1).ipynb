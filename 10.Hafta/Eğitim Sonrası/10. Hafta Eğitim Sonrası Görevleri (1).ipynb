{
 "cells": [
  {
   "attachments": {},
   "cell_type": "markdown",
   "metadata": {},
   "source": [
    "# Problem 1 "
   ]
  },
  {
   "cell_type": "code",
   "execution_count": 4,
   "metadata": {},
   "outputs": [
    {
     "name": "stdout",
     "output_type": "stream",
     "text": [
      "[10  2  1  5  3]\n",
      "[ 1  2  3  5 10]\n"
     ]
    }
   ],
   "source": [
    "# 1 - numpy kütüphanesini import edin\n",
    "import numpy as np\n",
    "# 2 - 5 elemanlı bir numpy array oluşturun\n",
    "array0=np.array([10,2,1,5,3])\n",
    "print(array1)\n",
    "# 3 - Oluşturduğunuz arrayi küçükten büyüğe sıralayın.\n",
    "array0.sort()\n",
    "print(array1)"
   ]
  },
  {
   "attachments": {},
   "cell_type": "markdown",
   "metadata": {},
   "source": [
    "# Problem 2"
   ]
  },
  {
   "cell_type": "code",
   "execution_count": 41,
   "metadata": {},
   "outputs": [
    {
     "name": "stdout",
     "output_type": "stream",
     "text": [
      "[10 15 30 45 60]\n",
      "[ 5  6  7  8  9 10 11 12 13 14 15]\n",
      "[ 50  55  60  65  70  75  80  85  90  95 100]\n",
      "[0. 0. 0. 0. 0. 0. 0. 0. 0. 0.]\n",
      "[1. 1. 1. 1. 1. 1. 1. 1. 1. 1.]\n",
      "[  0.  25.  50.  75. 100.]\n",
      "[11 19 13 13 21]\n",
      "[ 0.72342984 -0.87078223 -0.60303185  0.31696875 -0.81360462 -0.28026648\n",
      "  0.50823184 -0.25987944  0.22283646  0.77349231]\n",
      "[[12 26 34 39 16]\n",
      " [21 21 12 13 21]\n",
      " [13 31 24 21 43]]\n",
      "[127  88 132]\n",
      "[46 78 70 73 80]\n",
      "43\n",
      "12\n",
      "23.133333333333333\n",
      "14\n",
      "[10 11 12 13 14 15 16 17 18 19]\n",
      "[10 11 12]\n",
      "[19 18 17 16 15 14 13 12 11 10]\n",
      "[12 26 34 39 16]\n",
      "12\n",
      "[12 21 13]\n",
      "[[ 144  676 1156 1521  256]\n",
      " [ 441  441  144  169  441]\n",
      " [ 169  961  576  441 1849]]\n",
      "[[ 20 -14 -36   4  13]\n",
      " [-42  -7  -3 -49 -12]\n",
      " [-44  36  32  32  44]]\n",
      "[[ True False False  True False]\n",
      " [False False False False False]\n",
      " [False  True  True  True  True]]\n"
     ]
    }
   ],
   "source": [
    "# 1- (10,15,30,45,60) değerlerine sahip numpy dizisi oluşturunuz.\n",
    "array1=np.array([10,15,30,45,60])\n",
    "print(array1)\n",
    "\n",
    "# 2- (5-15) arasındaki sayılarla numpy dizisi oluşturunuz.\n",
    "array2=np.arange(5,16)\n",
    "print(array2)\n",
    "\n",
    "# 3- (50-100) arasında 5'er 5'er artarak numpy dizisi oluşturunuz.\n",
    "array3=np.arange(50,101,5)\n",
    "print(array3)\n",
    "\n",
    "# 4- 10 elemanlı sıfırlardan oluşan bir dizi oluşturunuz.\n",
    "array4=np.zeros(10)\n",
    "print(array4)\n",
    "\n",
    "# 5- 10 elemanlı birlerden oluşan bir dizi oluşturunuz.\n",
    "array5=np.ones(10)\n",
    "print(array5)\n",
    "\n",
    "# 6- (0-100) arasında eşit aralıklı 5 sayı üretin.\n",
    "array6=np.linspace(0,100,5)\n",
    "print(array6)\n",
    "\n",
    "# 7- (10-30) arasında rastgele 5 tane tamsayı üretin.\n",
    "array7=np.random.randint(10,30,size=5)\n",
    "print(array7)\n",
    "\n",
    "# 8- [-1 ile 1] arasında 10 adet sayı üretin.\n",
    "array8=np.random.uniform(-1,1,size=10)\n",
    "print(array8)\n",
    "\n",
    "# 9- (3x5) boyutlarında (10-50) arasında rastgele bir matris oluşturunuz.\n",
    "matris=np.random.randint(10,50,size=(3,5))\n",
    "print(matris)\n",
    "\n",
    "# 10- Üretilen matrisin satır ve sütun sayıları toplamlarını hesaplayınız ?\n",
    "print(matris.sum(axis=1))\n",
    "print(matris.sum(axis=0))\n",
    "\n",
    "# 11- Üretilen matrisin en büyük, en küçük ve ortalaması nedir ?\n",
    "print(matris.max())\n",
    "print(matris.min())\n",
    "print(matris.mean())\n",
    "\n",
    "# 12- Üretilen matrisin en büyük değerinin indeksi kaçtır ?\n",
    "print(matris.argmax())\n",
    "\n",
    "# 13- (10-20) arasındaki sayıları içeren dizinin ilk 3 elemanını seçiniz.\n",
    "array13=np.arange(10,20)\n",
    "print(array13)\n",
    "print(array13[:3])\n",
    "\n",
    "# 14- Üretilen dizinin elemanlarını tersten yazdırın.\n",
    "print(array13[::-1])\n",
    "\n",
    "# 15- Üretilen matrisin ilk satırını seçiniz.\n",
    "print(matris[0])\n",
    "\n",
    "# 16- Üretilen matrisin 2.satır 3.sütundaki elemanı hangisidir ?\n",
    "print(matris[1,2])\n",
    "\n",
    "# 17- Üretilen matrisin tüm satırlardaki ilk elemanı seçiniz.\n",
    "print(matris[:,0])\n",
    "\n",
    "# 18- Üretilen matrisin her bir elemanının karesini alınız.\n",
    "print(matris**2)\n",
    "np.power(matris,2)\n",
    "# 19- Üretilen matris elemanlarının hangisi pozitif çift sayıdır ? Aralığı (-50,+50) arasında yapınız.\n",
    "matris2=np.random.randint(-50,50,size=(3,5))\n",
    "print(matris2)\n",
    "\n",
    "print((matris2>0)&(matris2%2==0))"
   ]
  },
  {
   "cell_type": "code",
   "execution_count": null,
   "metadata": {},
   "outputs": [],
   "source": []
  }
 ],
 "metadata": {
  "kernelspec": {
   "display_name": "Python 3",
   "language": "python",
   "name": "python3"
  },
  "language_info": {
   "codemirror_mode": {
    "name": "ipython",
    "version": 3
   },
   "file_extension": ".py",
   "mimetype": "text/x-python",
   "name": "python",
   "nbconvert_exporter": "python",
   "pygments_lexer": "ipython3",
   "version": "3.11.1"
  },
  "orig_nbformat": 4,
  "vscode": {
   "interpreter": {
    "hash": "5026d2d6e7aaaaba093def813beadff083d8733e4a511af01735cbabd156995d"
   }
  }
 },
 "nbformat": 4,
 "nbformat_minor": 2
}
