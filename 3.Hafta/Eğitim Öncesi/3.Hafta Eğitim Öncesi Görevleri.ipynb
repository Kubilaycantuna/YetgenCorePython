{
  "cells": [
    {
      "cell_type": "markdown",
      "metadata": {
        "id": "tsD4YVAe_Te2"
      },
      "source": [
        "# Problem 1\n",
        "Bir sayının 7'ye bölünebilir olup olmadığını kontrol etmek \n",
        "için bir program yazın.\n",
        "\n",
        "İpucu: Mod operatörünü (%) kullanabilirsiniz."
      ]
    },
    {
      "cell_type": "code",
      "execution_count": 6,
      "metadata": {
        "id": "NGjvNwKx_Te7"
      },
      "outputs": [
        {
          "name": "stdout",
          "output_type": "stream",
          "text": [
            " 8 sayisi 7 ye tam bölünemez.\n"
          ]
        }
      ],
      "source": [
        "num1=int(input(\"Bir sayi giriniz:\"))\n",
        "if num1%7==0:\n",
        "    print(f\" {num1} sayisi 7 ye tam bölünür.\")\n",
        "else:\n",
        "    print(f\" {num1} sayisi 7 ye tam bölünemez.\")     "
      ]
    },
    {
      "cell_type": "code",
      "execution_count": 8,
      "metadata": {},
      "outputs": [
        {
          "name": "stdout",
          "output_type": "stream",
          "text": [
            "False\n"
          ]
        }
      ],
      "source": [
        "num2=int(input(\"Bir sayi giriniz:\"))\n",
        "print(num2 % 7 == 0)"
      ]
    },
    {
      "cell_type": "markdown",
      "metadata": {
        "id": "Kg3qiBAI_Te8"
      },
      "source": [
        "# Problem 2\n",
        "Kullanıcıdan vize ve final notu isteyin. Girilen vize notunun %40’ı ve \n",
        "girilen finalnotunun ise %60’ı alınarak yıl sonu not ortalaması hesaplanacaktır. \n",
        "\n",
        "Bu not ortalaması eğer 85 ve üzeri ise AA, \n",
        "\n",
        "75 ve 85 arasında ise BA, \n",
        "\n",
        "70 ve 75 arasında ise BB, \n",
        "\n",
        "65 ve 70 arasında ise CB,\n",
        "\n",
        "60 ve 65 arasında ise CC,\n",
        "\n",
        "55 ve 60 arasında ise DC,\n",
        "\n",
        "50 ve 55 arasında ise DD olarak hesaplanacaktır. \n",
        "\n",
        "Bu öğrencinin yıl sonu toplam notu 50’nin altında ise FF ile dersten kalacaktır. \n",
        "\n",
        "Ayrıca öğrencinin final notu 50’nin altında ise direkt FF ile kalacaktır."
      ]
    },
    {
      "cell_type": "code",
      "execution_count": 13,
      "metadata": {
        "id": "MXTtCxI1_Te8"
      },
      "outputs": [
        {
          "name": "stdout",
          "output_type": "stream",
          "text": [
            "Vize= 100.0\n",
            "Final= 60.0\n",
            "Yil Sonu Ortalama= 76.0\n",
            "Harf notunuz = BA \n"
          ]
        }
      ],
      "source": [
        "vize= float(input(\"Vize notunuzu giriniz:\"))\n",
        "final= float(input(\"Final notunuzu giriniz:\"))\n",
        "yil_sonu_ort = (vize*0.4 + final*0.6)\n",
        "\n",
        "print(f\"Vize= {vize}\")\n",
        "print(f\"Final= {final}\")\n",
        "print(f\"Yil Sonu Ortalama= {yil_sonu_ort}\")\n",
        "\n",
        "if final<50:\n",
        "    print(\"Final notunuz 50 nin altinda olduğu için FF ile dersten kaldiniz.\")\n",
        "elif yil_sonu_ort >= 85:\n",
        "    print(\"Harf notunuz = AA \")\n",
        "elif yil_sonu_ort >=75:\n",
        "    print(\"Harf notunuz = BA \")\n",
        "elif yil_sonu_ort >=70:  \n",
        "    print(\"Harf notunuz = BB \")  \n",
        "elif yil_sonu_ort >=65:      \n",
        "    print(\"Harf notunuz = CB \")  \n",
        "elif yil_sonu_ort >=60:  \n",
        "    print(\"Harf notunuz = CC \")     \n",
        "elif yil_sonu_ort >=55:    \n",
        "    print(\"Harf notunuz = DC \")    \n",
        "elif yil_sonu_ort >=50: \n",
        "    print(\"Harf notunuz = DD \")   \n",
        "else:\n",
        "    print(\"Yil sonu ortalamaniz 50 nin altinda olduğu için FF ile dersten kaldiniz.\")\n",
        "\n",
        "\n",
        "    \n",
        "\n",
        "\n",
        "\n"
      ]
    },
    {
      "cell_type": "markdown",
      "metadata": {
        "id": "tAoRYCTC_Te8"
      },
      "source": [
        "# Problem 3\n",
        "İki YetGenli Zirve'de karşılaşıyorlar. Birbirlerini tanımak için sorular soruyorlar. Birbirlerine yaşlarını soruyorlar. Akıllarına bir Python programı yazıp, yaşlarını ve isimlerini giriyorlar. Büyük olanın yaşını ekrana yazdıran programı yazıyorlar. Sende bu iki YetGenli'ye destek olmak ister misin?\n",
        "\n",
        "```\n",
        "Birinci YetGenlinin ismi: Ahmet\n",
        "Birinci YetGenlinin yaşı : 20\n",
        "İkinci YetGenlinin ismi: Mehmet\n",
        "İkinci YetGenlinin yaşı : 25\n",
        "Mehmet'in yaşı daha büyük ve yaşı 25'tir.\n",
        "```"
      ]
    },
    {
      "cell_type": "code",
      "execution_count": 18,
      "metadata": {
        "id": "bPjE8W0i_Te8"
      },
      "outputs": [
        {
          "name": "stdout",
          "output_type": "stream",
          "text": [
            "Selin' in yasi 28dir ve Kubilay'den daha büyüktür.\n"
          ]
        }
      ],
      "source": [
        "kisi1=str(input(\"1.kişinin ismi:\"))\n",
        "yas1= int(input(\"1.Kişinin yasi:\"))\n",
        "kisi2=str(input(\"2.kişinin ismi:\"))\n",
        "yas2= int(input(\"2.Kişinin yasi:\"))\n",
        "\n",
        "if yas1>yas2:\n",
        "    print(f\"{kisi1}' in yasi {yas1}dir ve {kisi2}'den daha büyüktür.\")\n",
        "elif yas2>yas1:   \n",
        "    print(f\"{kisi2}' in yasi {yas2}dir ve {kisi1}'den daha büyüktür.\") \n",
        "else:\n",
        "    print(f\"{kisi1} ve {kisi2}'nin yaslari {yas1}'dir ve  eşittir.\")\n",
        "\n",
        "\n",
        "\n"
      ]
    },
    {
      "cell_type": "markdown",
      "metadata": {
        "id": "zBVv8Tyg_Te9"
      },
      "source": [
        "# Problem 4\n",
        "Pandemi döneminde AVM'lerde ateş ölçümü yapılıyor. AVM'ye giren kişinin ateş ölçümü 37.5 derecenin altında ise girişe izin veriliyor. 37.5 derecenin üstünde ise girişe izin verilmiyor. AVM'ye girişe izin verilip verilmediğini ekrana yazdıran bir program yazın.\n",
        "\n",
        "Program sonunda şöyle bir çıktı elde etmelisiniz:\n",
        "\n",
        "```\n",
        "Ateşiniz 37.5 derece. AVM'ye girebilirsin! Maske takmayı unutma!\n",
        "Ateşiniz 37.6 derece. AVM'ye giremezsin! Hemen evine dön!\n",
        "```"
      ]
    },
    {
      "cell_type": "code",
      "execution_count": 20,
      "metadata": {
        "id": "TSAXs8et_Te9"
      },
      "outputs": [
        {
          "name": "stdout",
          "output_type": "stream",
          "text": [
            "Atesiniz 37.4 derece. AVM'ye girebilirsiniz\n"
          ]
        }
      ],
      "source": [
        "ates=float(input(\"Ateşiniz:\"))\n",
        "if ates<37.5:\n",
        "    print(f\"Atesiniz {ates} derece. AVM'ye girebilirsiniz\")\n",
        "else:\n",
        "    print(f\"Atesiniz {ates} derece. AVM'ye giremezsiniz\")    \n"
      ]
    },
    {
      "cell_type": "markdown",
      "metadata": {
        "id": "6AEkZrDt_Te9"
      },
      "source": [
        "# Problem 5\n",
        "YetGen bir spor kulübüyle sponsorluk anlaşması yapıyor. Kulüp, sponsorluk anlaşmasına göre her YetGen liderinin beden kitle indeksini hesaplamak istiyor. Spor kulübü, beden kitle indeksini hesaplamak için YetGen Jump Python liderlerinden Berkcan ve Ahmet'i arıyor. Berkcan ve Ahmet, kulübe yardımcı olmak için bir Python programı yazıyorlar. Sende bu iki YetGen liderine destek olmak ister misin?\n",
        "\n",
        "Kullanıcıdan alınan boy ve kilo değerlerine göre beden kitle indeksini hesaplayın ve şu kurallara göre ekrana şu yazıları yazdırın.\n",
        "\n",
        "\n",
        "Beden Kitle İndeksi, kişinin ağırlığının (kg olarak) boyunun karesine (m olarak) bölünmesiyle hesaplanır.\n",
        "\n",
        "\n",
        "```\n",
        " BKİ 18.5'un altındaysa -------> Zayıf\n",
        "\n",
        " BKİ 18.5 ile 25 arasındaysa ------> Normal\n",
        "\n",
        " BKİ 25 ile 30 arasındaysa --------> Fazla Kilolu\n",
        "\n",
        " BKİ 30'un üstündeyse -------------> Obez\n",
        "```\n",
        "\n"
      ]
    },
    {
      "cell_type": "code",
      "execution_count": 23,
      "metadata": {
        "id": "t-XPI_u0_Te-"
      },
      "outputs": [
        {
          "name": "stdout",
          "output_type": "stream",
          "text": [
            "Beden kitle indeksiniz = 30.094730002393902\n",
            "Obez\n"
          ]
        }
      ],
      "source": [
        "kg=float(input(\"Kilonuzu kg cinsinden girin:\"))\n",
        "boy=float(input(\"Boyunuzu m cinsinden girin:\"))\n",
        "bki= (kg/boy**2)\n",
        "print(f\"Beden kitle indeksiniz = {bki}\")\n",
        "\n",
        "if bki>=30:\n",
        "    print(\"Obez\")\n",
        "elif bki>=25:\n",
        "    print(\"Fazla kilolu \")\n",
        "elif bki>=18.5:\n",
        "    print(\"Normal\")\n",
        "else:\n",
        "    print(\"Zayıf\")"
      ]
    },
    {
      "cell_type": "markdown",
      "metadata": {
        "id": "oFsvQyaO_Te-"
      },
      "source": [
        "# Problem 6\n",
        "Kullanıcıdan isim, yaş ve eğitim bilgilerini isteyip ehliyet alabilme  durumunu kontrol ediniz. \n",
        "\n",
        "Ehliyet alma koşulu en az 18 yaşında ve eğitim durumu lise ya da üniversite olmalıdır. "
      ]
    },
    {
      "cell_type": "code",
      "execution_count": 28,
      "metadata": {
        "id": "Tu2mcgco_Te-"
      },
      "outputs": [
        {
          "name": "stdout",
          "output_type": "stream",
          "text": [
            "Kubilay\n",
            "20\n",
            "lise\n",
            "Ehliyet alabilirsiniz.\n"
          ]
        }
      ],
      "source": [
        "isim=str(input(\"İsminizi girin:\"))\n",
        "yas=int(input(\"Yasinizi girin:\"))\n",
        "egitim=str(input(\"Eğitim durumunuz:\"))\n",
        "\n",
        "print(isim)\n",
        "print(yas)\n",
        "print(egitim)\n",
        "\n",
        "if yas>18 and (egitim==\"Lise\" or egitim==\"lise\" or egitim==\"Üniversite\" or egitim==\"üniversite\"):\n",
        "    print(\"Ehliyet alabilirsiniz.\")\n",
        "else:\n",
        "    print(\"Ehliyet alamazsiniz.\")              "
      ]
    },
    {
      "cell_type": "markdown",
      "metadata": {
        "id": "eUkxVSAE_Te_"
      },
      "source": [
        "# Problem 7\n",
        "Bir yılın artık yıl olup olmadığını kontrol etmek için bir program yazın. \n",
        "Artık yıl kuralı:\n",
        "\n",
        "a) Eğer yılın son iki basamağı (00) ile bitmiyor ve yalnızca 4'e tam bölünüyorsa artık yıldır. Ya da, \n",
        "\n",
        "b) Eğer yıl 400'e tam bölünüyorsa artık yıldır.\n",
        "\n",
        "**Örneğin**\n",
        "```\n",
        "2017 artık yıl değildir.\n",
        "1900 artık yıl değildir\n",
        "2012 artık yıldır.\n",
        "2000 artık yıldır.\n",
        "```"
      ]
    },
    {
      "cell_type": "code",
      "execution_count": 33,
      "metadata": {
        "id": "4uWh8qUL_Te_"
      },
      "outputs": [
        {
          "name": "stdout",
          "output_type": "stream",
          "text": [
            "2012 artik yildir\n"
          ]
        }
      ],
      "source": [
        "yil=int(input(\"Yili girin:\"))\n",
        "\n",
        "if (not(yil%100==0) and yil%4==0) or yil%400==0:\n",
        "    print(f\"{yil} artik yildir\")\n",
        "else:\n",
        "    print (f\"{yil} artik yil değildir.\")  "
      ]
    }
  ],
  "metadata": {
    "colab": {
      "provenance": []
    },
    "kernelspec": {
      "display_name": "Python 3.10.5 64-bit",
      "language": "python",
      "name": "python3"
    },
    "language_info": {
      "codemirror_mode": {
        "name": "ipython",
        "version": 3
      },
      "file_extension": ".py",
      "mimetype": "text/x-python",
      "name": "python",
      "nbconvert_exporter": "python",
      "pygments_lexer": "ipython3",
      "version": "3.11.1"
    },
    "orig_nbformat": 4,
    "vscode": {
      "interpreter": {
        "hash": "5026d2d6e7aaaaba093def813beadff083d8733e4a511af01735cbabd156995d"
      }
    }
  },
  "nbformat": 4,
  "nbformat_minor": 0
}
